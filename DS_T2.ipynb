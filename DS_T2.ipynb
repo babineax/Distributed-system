{
  "nbformat": 4,
  "nbformat_minor": 0,
  "metadata": {
    "colab": {
      "provenance": [],
      "authorship_tag": "ABX9TyMn6eYkdvnBPQfCDSOhEmHk",
      "include_colab_link": true
    },
    "kernelspec": {
      "name": "python3",
      "display_name": "Python 3"
    },
    "language_info": {
      "name": "python"
    }
  },
  "cells": [
    {
      "cell_type": "markdown",
      "metadata": {
        "id": "view-in-github",
        "colab_type": "text"
      },
      "source": [
        "<a href=\"https://colab.research.google.com/github/babineax/Distributed-system/blob/main/DS_T2.ipynb\" target=\"_parent\"><img src=\"https://colab.research.google.com/assets/colab-badge.svg\" alt=\"Open In Colab\"/></a>"
      ]
    },
    {
      "cell_type": "code",
      "source": [],
      "metadata": {
        "id": "fp1_2Mq8QoH8"
      },
      "execution_count": null,
      "outputs": []
    },
    {
      "cell_type": "code",
      "source": [
        "import bisect\n",
        "import math\n",
        "\n",
        "class ConsistentHashing:\n",
        "    def __init__(self, num_servers, num_slots):\n",
        "        self.num_servers = num_servers\n",
        "        self.num_slots = num_slots\n",
        "        self.num_virtual_servers = math.ceil(math.log2(num_slots))\n",
        "        self.servers = {}\n",
        "        self.ring = []\n",
        "\n",
        "    def _hash_request(self, request_id):\n",
        "        return (request_id + 2 * request_id**2 + 17) % self.num_slots\n",
        "\n",
        "    def _hash_virtual_server(self, server_id, replica_id):\n",
        "        return (server_id + replica_id + 2 * replica_id**2 + 25) % self.num_slots\n",
        "\n",
        "    def _find_next_available_slot(self, slot):\n",
        "        original_slot = slot\n",
        "        i = 1\n",
        "        while slot in self.servers:\n",
        "            # Linear probing can be replaced by quadratic probing if needed.\n",
        "            slot = (original_slot + i**2) % self.num_slots\n",
        "            i += 1\n",
        "        return slot\n",
        "\n",
        "    def add_server(self, server_id):\n",
        "        for replica_id in range(self.num_virtual_servers):\n",
        "            virtual_server_hash = self._hash_virtual_server(server_id, replica_id)\n",
        "            if virtual_server_hash in self.servers:\n",
        "                virtual_server_hash = self._find_next_available_slot(virtual_server_hash)\n",
        "            self.servers[virtual_server_hash] = server_id\n",
        "            bisect.insort(self.ring, virtual_server_hash)\n",
        "\n",
        "    def remove_server(self, server_id):\n",
        "        keys_to_remove = [key for key, value in self.servers.items() if value == server_id]\n",
        "        for key in keys_to_remove:\n",
        "            self.servers.pop(key)\n",
        "            self.ring.remove(key)\n",
        "\n",
        "    def get_server(self, request_id):\n",
        "        if not self.ring:\n",
        "            return None\n",
        "        request_hash = self._hash_request(request_id)\n",
        "        idx = bisect.bisect(self.ring, request_hash)\n",
        "        if idx == len(self.ring):\n",
        "            idx = 0\n",
        "        return self.servers[self.ring[idx]]\n",
        "\n",
        "# Example usage\n",
        "if __name__ == \"__main__\":\n",
        "    num_servers = 3\n",
        "    num_slots = 512\n",
        "\n",
        "    ch = ConsistentHashing(num_servers, num_slots)\n",
        "\n",
        "    # Adding servers\n",
        "    for server_id in range(num_servers):\n",
        "        ch.add_server(server_id)\n",
        "\n",
        "    # Mapping requests to servers\n",
        "    requests = [132574, 234567, 345678]\n",
        "    for request_id in requests:\n",
        "        server = ch.get_server(request_id)\n",
        "        print(f\"Request ID {request_id} is mapped to Server ID {server}\")\n",
        "\n",
        "    # Adding a new server\n",
        "    new_server_id = 3\n",
        "    ch.add_server(new_server_id)\n",
        "    print(f\"Added Server ID {new_server_id}\")\n",
        "\n",
        "    # Mapping requests to servers after adding a new server\n",
        "    for request_id in requests:\n",
        "        server = ch.get_server(request_id)\n",
        "        print(f\"Request ID {request_id} is now mapped to Server ID {server}\")\n",
        "\n",
        "    # Removing a server\n",
        "    ch.remove_server(0)\n",
        "    print(\"Removed Server ID 0\")\n",
        "\n",
        "    # Mapping requests to servers after removing a server\n",
        "    for request_id in requests:\n",
        "        server = ch.get_server(request_id)\n",
        "        print(f\"Request ID {request_id} is now mapped to Server ID {server}\")\n"
      ],
      "metadata": {
        "colab": {
          "base_uri": "https://localhost:8080/"
        },
        "id": "9htRjqeYQ4Op",
        "outputId": "b5736548-ce19-4ef9-e6c0-f481081ad883"
      },
      "execution_count": 4,
      "outputs": [
        {
          "output_type": "stream",
          "name": "stdout",
          "text": [
            "Request ID 132574 is mapped to Server ID 0\n",
            "Request ID 234567 is mapped to Server ID 0\n",
            "Request ID 345678 is mapped to Server ID 0\n",
            "Added Server ID 3\n",
            "Request ID 132574 is now mapped to Server ID 0\n",
            "Request ID 234567 is now mapped to Server ID 0\n",
            "Request ID 345678 is now mapped to Server ID 0\n",
            "Removed Server ID 0\n",
            "Request ID 132574 is now mapped to Server ID 1\n",
            "Request ID 234567 is now mapped to Server ID 1\n",
            "Request ID 345678 is now mapped to Server ID 1\n"
          ]
        }
      ]
    },
    {
      "cell_type": "code",
      "execution_count": 3,
      "metadata": {
        "colab": {
          "base_uri": "https://localhost:8080/"
        },
        "id": "2GxJTKRgM3JH",
        "outputId": "00329492-cd9c-486d-d9c2-f4320b1e5d38"
      },
      "outputs": [
        {
          "output_type": "stream",
          "name": "stdout",
          "text": [
            "Request ID 123456 is mapped to Server ID 2\n",
            "Request ID 234567 is mapped to Server ID 0\n",
            "Request ID 345678 is mapped to Server ID 0\n",
            "Added Server ID 3\n",
            "Request ID 123456 is now mapped to Server ID 2\n",
            "Request ID 234567 is now mapped to Server ID 0\n",
            "Request ID 345678 is now mapped to Server ID 0\n",
            "Removed Server ID 0\n",
            "Request ID 123456 is now mapped to Server ID 2\n",
            "Request ID 234567 is now mapped to Server ID 1\n",
            "Request ID 345678 is now mapped to Server ID 1\n"
          ]
        }
      ],
      "source": []
    },
    {
      "cell_type": "code",
      "source": [],
      "metadata": {
        "id": "XD7O6uRcRAmd"
      },
      "execution_count": null,
      "outputs": []
    }
  ]
}